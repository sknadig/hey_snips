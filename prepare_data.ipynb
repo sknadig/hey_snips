{
 "cells": [
  {
   "cell_type": "code",
   "execution_count": 1,
   "metadata": {},
   "outputs": [],
   "source": [
    "import json\n",
    "import os"
   ]
  },
  {
   "cell_type": "code",
   "execution_count": 2,
   "metadata": {},
   "outputs": [],
   "source": [
    "for audio_set in [\"train\", \"dev\", \"test\"]:\n",
    "    os.mkdir(audio_set)\n",
    "    data = json.load(open(\"{0}.json\".format(audio_set), \"r\"))\n",
    "    sorted_data = sorted(data, key = lambda x: x['id'])\n",
    "\n",
    "    csv_file =  open(\"{0}/data.csv\".format(audio_set), \"w\")\n",
    "    wav_scp = open(\"{0}/wav.scp\".format(audio_set), \"w\")\n",
    "    text_scp = open(\"{0}/text\".format(audio_set), \"w\")\n",
    "    utt2spk = open(\"{0}/utt2spk\".format(audio_set), \"w\")\n",
    "    spk2utt = open(\"{0}/spk2utt\".format(audio_set), \"w\")\n",
    "    for row in sorted_data:\n",
    "        path = \"/shreekanth2/kws_data/hey_snips_research_6k_en_train_eval_clean_ter/\" + row[\"audio_file_path\"]\n",
    "        uttid = row[\"id\"]\n",
    "        is_hw = row[\"is_hotword\"]\n",
    "        csv_file.write(uttid + \",\" + path + \",\" + str(is_hw) + \"\\n\")\n",
    "        text_scp.write(uttid + \" \" + str(is_hw) + \"\\n\")\n",
    "        wav_scp.write(uttid + \"\\t\" +\"sox {0} -t wav -b 16 -r 16000 - |\".format(path) + \"\\n\")\n",
    "        utt2spk.write(uttid + \" \" + uttid + \"\\n\")\n",
    "        spk2utt.write(uttid + \" \" + uttid + \"\\n\")"
   ]
  }
 ],
 "metadata": {
  "kernelspec": {
   "display_name": "Python 3",
   "language": "python",
   "name": "python3"
  },
  "language_info": {
   "codemirror_mode": {
    "name": "ipython",
    "version": 3
   },
   "file_extension": ".py",
   "mimetype": "text/x-python",
   "name": "python",
   "nbconvert_exporter": "python",
   "pygments_lexer": "ipython3",
   "version": "3.6.9"
  }
 },
 "nbformat": 4,
 "nbformat_minor": 4
}
